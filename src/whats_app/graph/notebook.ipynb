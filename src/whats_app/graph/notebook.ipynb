{
 "cells": [
  {
   "cell_type": "code",
   "execution_count": 9,
   "metadata": {},
   "outputs": [
    {
     "name": "stdout",
     "output_type": "stream",
     "text": [
      "/Users/jyothivishnuvardhankolla/Desktop/MlOps/whatsapp-agent/src\n"
     ]
    }
   ],
   "source": [
    "# fmt: off\n",
    "import os\n",
    "import sys\n",
    "current_dir = os.getcwd()\n",
    "parent_dir = os.path.abspath(os.path.join(current_dir, \"..\", \"..\"))\n",
    "print(parent_dir)\n",
    "sys.path.append(parent_dir)\n",
    "\n",
    "from whats_app.core.prompts import CHARACTER_CARD_PROMPT, ROUTER_PROMPT\n",
    "from pydantic import BaseModel, Field\n",
    "from langchain_core.prompts import ChatPromptTemplate, MessagesPlaceholder\n",
    "\n",
    "\n",
    "from whats_app.graph.utils.helpers import AsteriskRemovalParser, get_chat_model\n",
    "\n",
    "# fmt: on"
   ]
  },
  {
   "cell_type": "code",
   "execution_count": 12,
   "metadata": {},
   "outputs": [],
   "source": [
    "class RouterResponse(BaseModel):\n",
    "    response_type: str = Field(\n",
    "        description=\"The type of response to generate. It must be one of conversation, image or audio\")\n",
    "\n",
    "def get_router_chain():\n",
    "    \"\"\"\n",
    "    This chain is responsible for determining the right workflow to execute based on the user's message.\n",
    "    \"\"\"\n",
    "    model = get_chat_model(\n",
    "        temperature=0.3).with_structured_output(RouterResponse)\n",
    "    prompt = ChatPromptTemplate.from_messages(\n",
    "        [\n",
    "            (\"system\", ROUTER_PROMPT),\n",
    "            MessagesPlaceholder(variable_name=\"messages\"),\n",
    "        ]\n",
    "    )\n",
    "    return prompt | model"
   ]
  }
 ],
 "metadata": {
  "kernelspec": {
   "display_name": "agents",
   "language": "python",
   "name": "python3"
  },
  "language_info": {
   "codemirror_mode": {
    "name": "ipython",
    "version": 3
   },
   "file_extension": ".py",
   "mimetype": "text/x-python",
   "name": "python",
   "nbconvert_exporter": "python",
   "pygments_lexer": "ipython3",
   "version": "3.12.9"
  }
 },
 "nbformat": 4,
 "nbformat_minor": 2
}
